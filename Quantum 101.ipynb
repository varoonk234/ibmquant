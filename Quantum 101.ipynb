{
 "cells": [
  {
   "cell_type": "markdown",
   "metadata": {},
   "source": [
    "# Quantum Computing - a brief intro!"
   ]
  },
  {
   "cell_type": "markdown",
   "metadata": {},
   "source": [
    "Physics and computation have been linked since computers were first created! We have used sets of rules, known as algorithms, to solve the mathematical equations that describe problems in physics for many decades. When quantum mechanics was discovered in the 1900s, scientists soon became intrigued by the possibility of using it to process information. And so, quantum computing was born!  \n",
    "\n",
    "Quantum computers use the power of quantum mechanics to carry out information processing tasks such as the ones currently carried out by regular computers. However, these quantum systems have the capability to provide more elegant solutions and also promise the speed up of specific processing tasks. \n",
    "\n",
    "This speed-up will benefit a variety of industries, with exciting applications ranging from artificial intelligence to quantum cryptography!"
   ]
  },
  {
   "cell_type": "markdown",
   "metadata": {},
   "source": [
    "## From Classical to Quantum computers..."
   ]
  },
  {
   "cell_type": "markdown",
   "metadata": {},
   "source": [
    "In classical computers, information is stored in states called \"bits\" that are represented by either a 0 (off) or a 1 (on). The state of these bits can then be changed using \"gates\". \n",
    "\n",
    "For example, the \"NOT\" gate inverts the state of a single bit:\n",
    "\n",
    "$$0_{input} \\rightarrow 1_{output} \\\\ 1_{input} \\rightarrow 0_{output}$$\n",
    "\n",
    "As illsutrated above, the NOT gates swaps the state of the bit. Another common classical gate is the \"OR\" gate, which acts on two input bits and returns one output bit. Let's label the two initial bits \"A\" and \"B\", and see what happens to the output bit:\n",
    "\n",
    "$$0_{A}0_{B} \\rightarrow 0_{output} \\\\ 1_{A}0_{B} \\rightarrow 1_{output} \\\\ 0_{A}1_{B} \\rightarrow 1_{output} \\\\ 1_{A}1_{B} \\rightarrow 1_{output}$$ \n",
    "\n",
    "In the first case, both input bits are 0 (off). The OR gate therefore has no effect and returns the 0 in the output bit. In the second and third cases, as one of the input states is a 1 (on), the OR gate returns 1 as the output bit. In the last case, both input bits are 1 and the OR gate returns 1 as the output bit. Therefore if either or both input bits is 1, the OR gate returns a 1 as the output bit! "
   ]
  },
  {
   "cell_type": "markdown",
   "metadata": {},
   "source": [
    "## Qubits"
   ]
  },
  {
   "cell_type": "markdown",
   "metadata": {},
   "source": [
    "Now that we've seen how regular computers use bits, we can extend this to quantum computers. Instead of bits, quantum computers are built out of \"qubits\" (quantum bits!), which are the basic unit of quantum information. Just as before, they exist in one of two states: $$|0\\rangle = \\begin{pmatrix} 1 \\\\ 0 \\end{pmatrix}$$ \n",
    "\n",
    "$$|1\\rangle = \\begin{pmatrix} 0 \\\\ 1 \\end{pmatrix}$$ and we can change these states using quantum gates. Note, in quantum mechanics, we refer to $|0\\rangle$ as a \"ket\" which shows that the qubit is in the state 0. Unlike classical bits, qubits can exist in a combined state or \"superposition\" which allows more possible configurations. This can be seen on the right hand diagram below. \n",
    "\n",
    "<img src=\"classicvsquant.jpg\" style = width:500px> \n",
    "\n",
    "We see that the possible states of a qubit lie on the surface of a sphere, known as the \"Bloch sphere\", whereas classical bits would only exist at the poles of this sphere. There is a set of quantum gates that act on a single qubit, of which we will focus on the Pauli $X, Y, Z$ gates, and the Identity ($I$) gate. "
   ]
  },
  {
   "cell_type": "markdown",
   "metadata": {},
   "source": [
    "### Pauli Gates"
   ]
  },
  {
   "cell_type": "markdown",
   "metadata": {},
   "source": [
    "The Pauli gates are operations described by specific matrices that are named after the famous physicist Wolfgang Pauli. In quantum mechanics, this set of matrices are required for the Pauli equation, which describes the interaction of the spin of a particle with an external electromagnetic field."
   ]
  },
  {
   "cell_type": "markdown",
   "metadata": {},
   "source": [
    "#### $X$: \"bit-flip gate\"\n",
    "\n",
    "It is defined in matrix terms as follows:\n",
    "\n",
    "$$\n",
    "X \\equiv \n",
    "\\begin{pmatrix}\n",
    "0 & 1\\\\\n",
    "1 & 0\n",
    "\\end{pmatrix},\n",
    "$$\n",
    "\n",
    "This acts just like the classical NOT gate and inverts the state of the qubit as below:\n",
    "\n",
    "$$ X |0\\rangle \\rightarrow |1\\rangle $$\n",
    "$$ X |1\\rangle \\rightarrow |0\\rangle $$\n",
    "\n",
    "\n",
    "\n",
    "#### $Y$: \"bit- and phase-flip gate\"\n",
    "\n",
    "The $Y$ gate is defined as:\n",
    "\n",
    "$$\n",
    "Y \\equiv\n",
    "\\begin{pmatrix}\n",
    "0 & -i\\\\\n",
    "i & 0\n",
    "\\end{pmatrix}\n",
    "$$\n",
    "\n",
    "The difference between quantum and classical gates becomes apparent when we consider the Pauli-Y gate. The Y gate inverts the state of the qubit, similar to the classical NOT gate. However, it also flips the \"phase\" of the qubit: \n",
    "\n",
    "$$ Y |0\\rangle \\rightarrow i|1\\rangle \\equiv e^{i\\pi/2}|1\\rangle $$\n",
    "$$ Y |1\\rangle \\rightarrow -i|0\\rangle \\equiv e^{i3\\pi/2}|0\\rangle $$\n",
    "\n",
    "The \"phase\" is represented by the complex exponential before each qubit. It is important to note that \"global phases\" between states do not matter when we eventually make measurements on these systems. However \"relative phases\" do! We will return to the concept of phases a bit later on. \n",
    "\n",
    "#### $Z$: \"phase-flip gate\"\n",
    "\n",
    "The $Z$ gate is defined as:\n",
    "\n",
    "$$\n",
    "Z \\equiv\n",
    "\\begin{pmatrix}\n",
    "1 & 0\\\\\n",
    "0 & -1\n",
    "\\end{pmatrix}\n",
    "$$\n",
    "\n",
    "The Z-gate leaves the $|0\\rangle$ state unchanged but flips the phase of the $|1\\rangle$ state, illustrated below:\n",
    "\n",
    "$$ Z |0\\rangle \\rightarrow |0\\rangle  $$\n",
    "$$ Z |1\\rangle \\rightarrow -|1\\rangle \\equiv e^{i\\pi}|0\\rangle $$"
   ]
  },
  {
   "cell_type": "markdown",
   "metadata": {},
   "source": [
    "### Identity Gate"
   ]
  },
  {
   "cell_type": "markdown",
   "metadata": {},
   "source": [
    "Doing nothing on a state can be a powerful tool in computing, and this is eactly what the identity gate does! It leaves the state of the qubit completely unchanged: \n",
    "\n",
    "$$\n",
    "I = \n",
    "\\begin{pmatrix}\n",
    "1 & 0 \\\\\n",
    "0 & 1\n",
    "\\end{pmatrix}.\n",
    "$$\n",
    "\n",
    "\n",
    "$$ I |0\\rangle \\rightarrow |0\\rangle $$\n",
    "$$ I |1\\rangle \\rightarrow |1\\rangle $$\n",
    "\n",
    "This can be used to check the accuracy of a quantum computer - if it is 100% accurate, then every experiment should leave the state of the qubit unchanged! Let's run a simulation to put this into practice:"
   ]
  },
  {
   "cell_type": "markdown",
   "metadata": {},
   "source": [
    "## Quantum Schwantum - how does quantum mechanics make computers \"better\"? "
   ]
  },
  {
   "cell_type": "markdown",
   "metadata": {},
   "source": [
    "Quantum computing relies on two key properties of quantum mechanics - superposition and entanglement - to maximise the speed of particular processing tasks. "
   ]
  },
  {
   "cell_type": "markdown",
   "metadata": {},
   "source": [
    "## Superposition"
   ]
  },
  {
   "cell_type": "markdown",
   "metadata": {},
   "source": [
    "The principle of superposition can be understood in the following ways. Any number of quantum states can be added together to give another quantum state. OR that a quantum state can be represented as the sum of a number of distinct states. This property arises due to the fact that the Schrodinger equation, which describes the state of a quantum mechanical system, is linear and therefore a linear combination of solutions to the equation is also a solution.\n",
    "\n",
    "So why is this significant? In contrast to classical bits that can only exist in the state 0 or 1, qubits can exist in a superposition of both $|0\\rangle$ and $|1\\rangle$. This property is illustrated well by the example of Schrodinger's cat. This was a thought experiment thought up by Schrodinger in which he imagined putting a cat in a box with a vile of poison that could release itself at any time. Without looking inside the box, there is no way to tell whether the cat was dead or alive, and therefore he postured that the cat was in a superposition of both dead and alive states. Only by looking inside (i.e. making a measurement on the system), would determine the outcome.\n",
    "\n",
    "Let's say the state $|0\\rangle$ corresponds to finding the cat alive and the state $|1\\rangle$ corresponds to finding the cat dead, to which we assign the probabilities 50% dead, 50% alive. The state would look as follows:\n",
    "\n",
    "$$ |cat\\rangle = \\frac{|0\\rangle + |1\\rangle}{\\sqrt{2}}, $$\n",
    "\n",
    "where the factor $\\sqrt{2}$ comes from normalizing the state such that the total probability of the cat being in either state is 1. \n",
    "\n",
    "<img src=\"schrodingers_cat.jpg\" style = width:500px> "
   ]
  },
  {
   "cell_type": "markdown",
   "metadata": {},
   "source": [
    "In a perfect quantum simulation, we would expect to find the cat dead and alive equally in a set number of trials. Let's try this with 100 trials on the ideal simulator:"
   ]
  },
  {
   "cell_type": "markdown",
   "metadata": {},
   "source": [
    "On the ideal simulator, we get the probabilities of both the cat being alive and being dead at roughly 50% as predicted. However, on a noisy simulator, we see that there is a bias towards ... \n",
    "\n",
    "This superposition of states allows the speed-up of processing tasks via a phenomena known as quantum parallelism. "
   ]
  },
  {
   "cell_type": "markdown",
   "metadata": {},
   "source": [
    "### Quantum parallelism \n",
    "\n",
    "Quantum parallelism comes about as a result of the superposition of base states in a quantum register (i.e. the computer's memory consisting of a specific number of qubits). \n",
    "\n",
    "An operation on the set of qubits forming the register acts on each component of the superposition. For example, imagine there are n qubits in the register. As each qubit can exist in one of two states ($|0\\rangle$ or $|1\\rangle$), there are $2^n$ possible states. In quantum computing, one operation acts on all $2^n$ possible states, whereas a classical computer would require an exponential number of operations on all of these states! Amazing! This property is used in a number of quantum algorithms, most notably Peter Shor's factoring algorithm which we shall discuss in greater depth shortly. \n",
    "\n",
    "You might think this sounds too good to be true (as with much of the \"magic\" of quantum computing!). The only caveat here is that the more states in the superposition, the smaller the probability that any one state will be measured. "
   ]
  },
  {
   "cell_type": "markdown",
   "metadata": {},
   "source": [
    "## Entanglement"
   ]
  },
  {
   "cell_type": "markdown",
   "metadata": {},
   "source": [
    "In quantum mechanics, a pair of entangled particles are connected so that a measurement performed on one affects the other, even if the two particles are separated by large distances!  This phenomena caused none other than Albert Einstein to question the completeness of quantum theory, labelling it \"spooky action at a distance\"...\n",
    "\n",
    "<img src=\"spooky.jpg\" style = width:500px> \n",
    "\n",
    "We can illustrate this idea very simply with a game of \"quantum snake\". In conventional snake, the player controls a snake to eat apples that randomly appear in different squares on the screen. In this analogy, the snake eating the apple represents a measurement on a qubit. In the modified quantum snake, two apples appear on the screen, representing two entangled qubits! If the snake eats either of these, both disappear. This represents the fact that making a measurement on one of the states is sufficient to determine the state of the other! \n",
    "\n",
    "Use the arrow keys to try this out below!"
   ]
  },
  {
   "cell_type": "code",
   "execution_count": null,
   "metadata": {},
   "outputs": [],
   "source": [
    "# Here we have the code for a modified snake (credit to freCodeCamp.org for the code for a generic snake game of which partial adjustment to the logic was made)\n",
    "\n",
    "import math\n",
    "import random\n",
    "import pygame\n",
    "\n",
    "class cube(object):\n",
    "    rows = 20\n",
    "    w = 500\n",
    "    def __init__(self,start,dirnx=1,dirny=0,color=(182,102,210)):\n",
    "        self.pos = start\n",
    "        self.dirnx = 1\n",
    "        self.dirny = 0\n",
    "        self.color = color\n",
    " \n",
    "       \n",
    "    def move(self, dirnx, dirny):\n",
    "        self.dirnx = dirnx\n",
    "        self.dirny = dirny\n",
    "        self.pos = (self.pos[0] + self.dirnx, self.pos[1] + self.dirny)\n",
    " \n",
    "    def draw(self, surface, eyes=False):\n",
    "        dis = self.w // self.rows\n",
    "        i = self.pos[0]\n",
    "        j = self.pos[1]\n",
    " \n",
    "        pygame.draw.rect(surface, self.color, (i*dis+1,j*dis+1, dis-2, dis-2))\n",
    "        if eyes:\n",
    "            centre = dis//2\n",
    "            radius = 3\n",
    "            circleMiddle = (i*dis+centre-radius,j*dis+8)\n",
    "            circleMiddle2 = (i*dis + dis -radius*2, j*dis+8)\n",
    "            pygame.draw.circle(surface, (0,0,0), circleMiddle, radius)\n",
    "            pygame.draw.circle(surface, (0,0,0), circleMiddle2, radius)\n",
    "            \n",
    "  \n",
    "class snake(object):\n",
    "    body = []\n",
    "    turns = {}\n",
    "    def __init__(self, color, pos):\n",
    "        self.color = color\n",
    "        self.head = cube(pos)\n",
    "        self.body.append(self.head)\n",
    "        self.dirnx = 0\n",
    "        self.dirny = 1\n",
    " \n",
    "    def move(self):\n",
    "        for event in pygame.event.get():\n",
    "            if event.type == pygame.QUIT:\n",
    "                pygame.quit()\n",
    " \n",
    "            keys = pygame.key.get_pressed()\n",
    " \n",
    "            for key in keys:\n",
    "                if keys[pygame.K_LEFT]:\n",
    "                    self.dirnx = -1\n",
    "                    self.dirny = 0\n",
    "                    self.turns[self.head.pos[:]] = [self.dirnx, self.dirny]\n",
    " \n",
    "                elif keys[pygame.K_RIGHT]:\n",
    "                    self.dirnx = 1\n",
    "                    self.dirny = 0\n",
    "                    self.turns[self.head.pos[:]] = [self.dirnx, self.dirny]\n",
    " \n",
    "                elif keys[pygame.K_UP]:\n",
    "                    self.dirnx = 0\n",
    "                    self.dirny = -1\n",
    "                    self.turns[self.head.pos[:]] = [self.dirnx, self.dirny]\n",
    " \n",
    "                elif keys[pygame.K_DOWN]:\n",
    "                    self.dirnx = 0\n",
    "                    self.dirny = 1\n",
    "                    self.turns[self.head.pos[:]] = [self.dirnx, self.dirny]\n",
    " \n",
    "        for i, c in enumerate(self.body):\n",
    "            p = c.pos[:]\n",
    "            if p in self.turns:\n",
    "                turn = self.turns[p]\n",
    "                c.move(turn[0],turn[1])\n",
    "                if i == len(self.body)-1:\n",
    "                    self.turns.pop(p)\n",
    "            else:\n",
    "                if c.dirnx == -1 and c.pos[0] <= 0: c.pos = (c.rows-1, c.pos[1])\n",
    "                elif c.dirnx == 1 and c.pos[0] >= c.rows-1: c.pos = (0,c.pos[1])\n",
    "                elif c.dirny == 1 and c.pos[1] >= c.rows-1: c.pos = (c.pos[0], 0)\n",
    "                elif c.dirny == -1 and c.pos[1] <= 0: c.pos = (c.pos[0],c.rows-1)\n",
    "                else: c.move(c.dirnx,c.dirny)\n",
    "       \n",
    " \n",
    "    def reset(self, pos):\n",
    "        self.head = cube(pos)\n",
    "        self.body = []\n",
    "        self.body.append(self.head)\n",
    "        self.turns = {}\n",
    "        self.dirnx = 0\n",
    "        self.dirny = 1\n",
    " \n",
    " \n",
    "    def addCube(self):\n",
    "        tail = self.body[-1]\n",
    "        dx, dy = tail.dirnx, tail.dirny\n",
    " \n",
    "        if dx == 1 and dy == 0:\n",
    "            self.body.append(cube((tail.pos[0]-1,tail.pos[1])))\n",
    "        elif dx == -1 and dy == 0:\n",
    "            self.body.append(cube((tail.pos[0]+1,tail.pos[1])))\n",
    "        elif dx == 0 and dy == 1:\n",
    "            self.body.append(cube((tail.pos[0],tail.pos[1]-1)))\n",
    "        elif dx == 0 and dy == -1:\n",
    "            self.body.append(cube((tail.pos[0],tail.pos[1]+1)))\n",
    " \n",
    "        self.body[-1].dirnx = dx\n",
    "        self.body[-1].dirny = dy\n",
    "       \n",
    " \n",
    "    def draw(self, surface):\n",
    "        for i, c in enumerate(self.body):\n",
    "            if i ==0:\n",
    "                c.draw(surface, True)\n",
    "            else:\n",
    "                c.draw(surface)\n",
    " \n",
    " \n",
    "def drawGrid(w, rows, surface):\n",
    "    sizeBtwn = w // rows\n",
    " \n",
    "    x = 0\n",
    "    y = 0\n",
    "    for l in range(rows):\n",
    "        x = x + sizeBtwn\n",
    "        y = y + sizeBtwn\n",
    " \n",
    "        pygame.draw.line(surface, (255,255,255), (x,0),(x,w))\n",
    "        pygame.draw.line(surface, (255,255,255), (0,y),(w,y))\n",
    "       \n",
    "    \n",
    "def redrawWindow(surface):\n",
    "    global rows, width, s, snack, snack_2\n",
    "    surface.fill((0,0,0))\n",
    "    s.draw(surface)\n",
    "    snack.draw(surface)\n",
    "    snack_2.draw(surface)\n",
    "    drawGrid(width,rows, surface)\n",
    "    pygame.display.update()\n",
    " \n",
    " \n",
    "def randomSnack(rows, item):\n",
    " \n",
    "    positions = item.body\n",
    " \n",
    "    while True:\n",
    "        x = random.randrange(rows)\n",
    "        y = random.randrange(rows)\n",
    "        if len(list(filter(lambda z:z.pos == (x,y), positions))) > 0:\n",
    "            continue\n",
    "        else:\n",
    "            break\n",
    "       \n",
    "    return (x,y)\n",
    "\n",
    " \n",
    "def main():\n",
    "    global width, rows, s, snack, snack_2\n",
    "    width = 500\n",
    "    rows = 20\n",
    "    win = pygame.display.set_mode((width, width))\n",
    "    s = snake((255,0,0), (10,10))\n",
    "    snack = cube(randomSnack(rows, s), color=(255,255,255))\n",
    "    snack_2 = cube(randomSnack(rows, s), color=(255,255,255))\n",
    "    flag = True\n",
    " \n",
    "    clock = pygame.time.Clock()\n",
    "    \n",
    "    \n",
    "    while flag:\n",
    "        pygame.time.delay(50)\n",
    "        clock.tick(10)\n",
    "        s.move()\n",
    "        if s.body[0].pos == snack.pos or s.body[0].pos == snack_2.pos:\n",
    "            s.addCube()\n",
    "            snack = cube(randomSnack(rows, s), color=(255,255,255))\n",
    "            snack_2 = cube(randomSnack(rows, s), color=(255,255,255))\n",
    " \n",
    "        for x in range(len(s.body)):\n",
    "            if s.body[x].pos in list(map(lambda z:z.pos,s.body[x+1:])):\n",
    "                print('Score: ', len(s.body))\n",
    "                s.reset((10,10))\n",
    "                \n",
    "                break \n",
    "        redrawWindow(win)\n",
    "\n",
    "    pass\n",
    "\n",
    "main()"
   ]
  },
  {
   "cell_type": "markdown",
   "metadata": {},
   "source": [
    "## Amazing! Can't wait for my personal quantum computer. When can I get one?"
   ]
  },
  {
   "cell_type": "markdown",
   "metadata": {},
   "source": [
    "Not quite yet...no one has yet built a quantum computer able to do practical work but we're not far off. IBM and Google are definitely leading the pack with some very impressive hardware and software offerings. \n",
    "\n",
    "IBM unveiled the world's first circuit-based commercial quantum computer, IBM Q System One, in January and launched a 53-qubit processor in October. Furthermore, it has offered a Python-based API (IBM Quantum Experience) for members of the public to access several of its quantum processors remotely for several years. Part of their toolbox includes a visual quantum composer (as shown below) "
   ]
  },
  {
   "cell_type": "markdown",
   "metadata": {},
   "source": [
    "<img src=\"quantum_composer.png\" style = width:800px>  "
   ]
  },
  {
   "cell_type": "markdown",
   "metadata": {},
   "source": [
    "Google recently claimed to have reached the incredible feat of \"quantum supremacy\" (basically performing a task that would be impossible to perform on a classical computer) on its 53-qubit processor, Sycamore. The problem that it solved involves a series of calculations be performed and each qubit outputs either a 0 or a 1. The probability of each possible outcome occurring is then determined. Sycamore discovered the solution in a mere few minutes, as opposed to the practically eternal 10,000 years on the a powerful supercomputer! Although this has been disputed by IBM, who argue that leveraging plentiful disk storage could lead to a solution within 2.5 days as opposed to 10,000 years, it shows that the exciting capabilities of quantum computers are not so far out of reach. "
   ]
  },
  {
   "cell_type": "markdown",
   "metadata": {},
   "source": [
    "<img src=\"google_sycamore.jpg\" style = width:500px> "
   ]
  },
  {
   "cell_type": "markdown",
   "metadata": {},
   "source": [
    "Lagging behind is Microsoft, which unveiled cloud-based quantum-computing tools designed for companies to speed up calculations on classical computers, but with no hardware offerings to speak of at this time. It plans to give its customers access to three prototype quantum computers, from Honeywell and two startups: IonQ from the University of Maryland and Yale-based Quantum Circuits Inc (QCI). \n",
    "\n",
    "Tech giant Amazon has entered the fold too, with a quantum cloud service \"Braket\" and ambitions to produce quantum processors of its own down the line.  \n",
    "\n",
    "Competition in the field is very stiff and not restricted to the usual suspects, as proven by San Francisco based startup Rigetti. It uses superconducting circuits and offers a similar Python-based API (Rigetti Forest Software Development Kit) as IBM. \n",
    "\n",
    "Finally, it is worth talking about D-Wave, which claims to have an operating processor with a whopping 5000 qubits at its disposal. Although impressive in magnitude, D-Wave is not quite a \"quantum computer\" but actually an \"adiabatic quantum computer\". In simple terms, it relies on the idea of embedding the computational problem of interest into a physical system, such that the systems lowest energy configuration (known as it's ground state) stores the solution. However such systems are more useful for optimization problems and hence are not as versatile as conventional \"Universal Gate\" quantum computers."
   ]
  }
 ],
 "metadata": {
  "kernelspec": {
   "display_name": "Python 3",
   "language": "python",
   "name": "python3"
  },
  "language_info": {
   "codemirror_mode": {
    "name": "ipython",
    "version": 3
   },
   "file_extension": ".py",
   "mimetype": "text/x-python",
   "name": "python",
   "nbconvert_exporter": "python",
   "pygments_lexer": "ipython3",
   "version": "3.6.8"
  }
 },
 "nbformat": 4,
 "nbformat_minor": 2
}
